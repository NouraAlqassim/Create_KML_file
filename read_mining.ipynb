{
 "cells": [
  {
   "cell_type": "code",
   "execution_count": 1,
   "metadata": {
    "id": "q7RyTdiE5wJ1"
   },
   "outputs": [],
   "source": [
    "import pandas as pd\n",
    "import numpy as np "
   ]
  },
  {
   "cell_type": "code",
   "execution_count": null,
   "metadata": {
    "id": "s20S6GueshS1"
   },
   "outputs": [],
   "source": [
    "from google.colab import files\n",
    "uploaded = files.upload() # Choose the excel file from your device "
   ]
  },
  {
   "cell_type": "code",
   "execution_count": null,
   "metadata": {
    "colab": {
     "base_uri": "https://localhost:8080/"
    },
    "id": "URqzvRJv5wJ6",
    "outputId": "616b89bb-fbea-4b8f-a440-64afd21a81d1"
   },
   "outputs": [
    {
     "data": {
      "text/plain": [
       "25.021666666666665"
      ]
     },
     "execution_count": 2,
     "metadata": {},
     "output_type": "execute_result"
    }
   ],
   "source": [
    "import re\n",
    "lat = '''25°1'18\"N'''\n",
    "deg, minutes, seconds, direction =  re.split('[°\\'\"]', lat)\n",
    "(float(deg) + float(minutes)/60 + float(seconds)/(60*60)) * (-1 if direction in ['W', 'S'] else 1) "
   ]
  },
  {
   "cell_type": "code",
   "execution_count": null,
   "metadata": {
    "id": "wLHVSOKF5wJ-"
   },
   "outputs": [],
   "source": [
    "import io\n",
    "mining_df = pd.read_excel(io.BytesIO(uploaded['DMS_to_LatLong.xlsx']))\n",
    "mining_df.head(20)"
   ]
  },
  {
   "cell_type": "code",
   "execution_count": null,
   "metadata": {
    "id": "lnahfCGk5wKB"
   },
   "outputs": [],
   "source": [
    "def get_lat_lon(deg, minutes, seconds):\n",
    "    return (float(deg) + float(minutes)/60 + float(seconds)/(60*60)) * (-1 if direction in ['W', 'S'] else 1) # Calculate the longitude and the latitude"
   ]
  },
  {
   "cell_type": "code",
   "execution_count": null,
   "metadata": {
    "id": "WejeCjrB5wKC"
   },
   "outputs": [],
   "source": [
    "df = mining_df[mining_df['Y'].notna()] # Delete the rows with missing values\n",
    "df.head(20)"
   ]
  },
  {
   "cell_type": "code",
   "execution_count": null,
   "metadata": {
    "colab": {
     "base_uri": "https://localhost:8080/",
     "height": 677
    },
    "id": "L7mEvqBskMy-",
    "outputId": "0b37392a-1e19-49bf-b1de-46a992653aee"
   },
   "outputs": [
    {
     "data": {
      "text/html": [
       "\n",
       "  <div id=\"df-d74848d9-a59c-4740-b3f8-4277922973e5\">\n",
       "    <div class=\"colab-df-container\">\n",
       "      <div>\n",
       "<style scoped>\n",
       "    .dataframe tbody tr th:only-of-type {\n",
       "        vertical-align: middle;\n",
       "    }\n",
       "\n",
       "    .dataframe tbody tr th {\n",
       "        vertical-align: top;\n",
       "    }\n",
       "\n",
       "    .dataframe thead th {\n",
       "        text-align: right;\n",
       "    }\n",
       "</style>\n",
       "<table border=\"1\" class=\"dataframe\">\n",
       "  <thead>\n",
       "    <tr style=\"text-align: right;\">\n",
       "      <th></th>\n",
       "      <th>Y</th>\n",
       "      <th>X</th>\n",
       "      <th>D</th>\n",
       "      <th>M</th>\n",
       "      <th>S</th>\n",
       "      <th>D.1</th>\n",
       "      <th>M.1</th>\n",
       "      <th>S.1</th>\n",
       "      <th>P</th>\n",
       "    </tr>\n",
       "  </thead>\n",
       "  <tbody>\n",
       "    <tr>\n",
       "      <th>0</th>\n",
       "      <td>2769254.392</td>\n",
       "      <td>728323.36</td>\n",
       "      <td>25</td>\n",
       "      <td>1</td>\n",
       "      <td>18</td>\n",
       "      <td>47</td>\n",
       "      <td>15</td>\n",
       "      <td>45.6</td>\n",
       "      <td>1</td>\n",
       "    </tr>\n",
       "    <tr>\n",
       "      <th>1</th>\n",
       "      <td>2779036.337</td>\n",
       "      <td>748997.019</td>\n",
       "      <td>25</td>\n",
       "      <td>6</td>\n",
       "      <td>24</td>\n",
       "      <td>47</td>\n",
       "      <td>28</td>\n",
       "      <td>9</td>\n",
       "      <td>2</td>\n",
       "    </tr>\n",
       "    <tr>\n",
       "      <th>2</th>\n",
       "      <td>2775781.614</td>\n",
       "      <td>752813.833</td>\n",
       "      <td>25</td>\n",
       "      <td>4</td>\n",
       "      <td>36</td>\n",
       "      <td>47</td>\n",
       "      <td>30</td>\n",
       "      <td>23</td>\n",
       "      <td>3</td>\n",
       "    </tr>\n",
       "    <tr>\n",
       "      <th>3</th>\n",
       "      <td>2772356.603</td>\n",
       "      <td>747497.487</td>\n",
       "      <td>25</td>\n",
       "      <td>2</td>\n",
       "      <td>47.92</td>\n",
       "      <td>47</td>\n",
       "      <td>27</td>\n",
       "      <td>11.18</td>\n",
       "      <td>4</td>\n",
       "    </tr>\n",
       "    <tr>\n",
       "      <th>4</th>\n",
       "      <td>2767208.788</td>\n",
       "      <td>742530.091</td>\n",
       "      <td>25</td>\n",
       "      <td>0</td>\n",
       "      <td>3.6</td>\n",
       "      <td>47</td>\n",
       "      <td>24</td>\n",
       "      <td>10.8</td>\n",
       "      <td>5</td>\n",
       "    </tr>\n",
       "    <tr>\n",
       "      <th>5</th>\n",
       "      <td>2763395.255</td>\n",
       "      <td>736766.372</td>\n",
       "      <td>24</td>\n",
       "      <td>58</td>\n",
       "      <td>3</td>\n",
       "      <td>47</td>\n",
       "      <td>20</td>\n",
       "      <td>43</td>\n",
       "      <td>6</td>\n",
       "    </tr>\n",
       "    <tr>\n",
       "      <th>6</th>\n",
       "      <td>2763799.272</td>\n",
       "      <td>731225.956</td>\n",
       "      <td>24</td>\n",
       "      <td>58</td>\n",
       "      <td>19.2</td>\n",
       "      <td>47</td>\n",
       "      <td>17</td>\n",
       "      <td>25.8</td>\n",
       "      <td>7</td>\n",
       "    </tr>\n",
       "    <tr>\n",
       "      <th>7</th>\n",
       "      <td>2763188.826</td>\n",
       "      <td>729889.362</td>\n",
       "      <td>24</td>\n",
       "      <td>58</td>\n",
       "      <td>0.1</td>\n",
       "      <td>47</td>\n",
       "      <td>16</td>\n",
       "      <td>37.8</td>\n",
       "      <td>8</td>\n",
       "    </tr>\n",
       "    <tr>\n",
       "      <th>10</th>\n",
       "      <td>2817176.088</td>\n",
       "      <td>693848.141</td>\n",
       "      <td>25</td>\n",
       "      <td>27</td>\n",
       "      <td>32.4</td>\n",
       "      <td>46</td>\n",
       "      <td>55</td>\n",
       "      <td>40.8</td>\n",
       "      <td>1</td>\n",
       "    </tr>\n",
       "    <tr>\n",
       "      <th>11</th>\n",
       "      <td>2805080.951</td>\n",
       "      <td>714562.92</td>\n",
       "      <td>25</td>\n",
       "      <td>20</td>\n",
       "      <td>49.2</td>\n",
       "      <td>47</td>\n",
       "      <td>7</td>\n",
       "      <td>55.2</td>\n",
       "      <td>2</td>\n",
       "    </tr>\n",
       "    <tr>\n",
       "      <th>12</th>\n",
       "      <td>2788305.329</td>\n",
       "      <td>711804.981</td>\n",
       "      <td>25</td>\n",
       "      <td>11</td>\n",
       "      <td>45.6</td>\n",
       "      <td>47</td>\n",
       "      <td>6</td>\n",
       "      <td>7.2</td>\n",
       "      <td>3</td>\n",
       "    </tr>\n",
       "    <tr>\n",
       "      <th>13</th>\n",
       "      <td>2789292.182</td>\n",
       "      <td>688605.244</td>\n",
       "      <td>25</td>\n",
       "      <td>12</td>\n",
       "      <td>28.8</td>\n",
       "      <td>46</td>\n",
       "      <td>52</td>\n",
       "      <td>19.2</td>\n",
       "      <td>4</td>\n",
       "    </tr>\n",
       "    <tr>\n",
       "      <th>16</th>\n",
       "      <td>2872965.75</td>\n",
       "      <td>554165.349</td>\n",
       "      <td>25</td>\n",
       "      <td>58</td>\n",
       "      <td>28</td>\n",
       "      <td>45</td>\n",
       "      <td>32</td>\n",
       "      <td>28</td>\n",
       "      <td>1</td>\n",
       "    </tr>\n",
       "    <tr>\n",
       "      <th>17</th>\n",
       "      <td>2874063.615</td>\n",
       "      <td>559054.384</td>\n",
       "      <td>25</td>\n",
       "      <td>59</td>\n",
       "      <td>3</td>\n",
       "      <td>45</td>\n",
       "      <td>35</td>\n",
       "      <td>24</td>\n",
       "      <td>2</td>\n",
       "    </tr>\n",
       "    <tr>\n",
       "      <th>18</th>\n",
       "      <td>2861033.736</td>\n",
       "      <td>568269.928</td>\n",
       "      <td>25</td>\n",
       "      <td>51</td>\n",
       "      <td>58</td>\n",
       "      <td>45</td>\n",
       "      <td>40</td>\n",
       "      <td>53</td>\n",
       "      <td>3</td>\n",
       "    </tr>\n",
       "    <tr>\n",
       "      <th>19</th>\n",
       "      <td>2859594.281</td>\n",
       "      <td>563406.157</td>\n",
       "      <td>25</td>\n",
       "      <td>51</td>\n",
       "      <td>12</td>\n",
       "      <td>45</td>\n",
       "      <td>37</td>\n",
       "      <td>58</td>\n",
       "      <td>4</td>\n",
       "    </tr>\n",
       "    <tr>\n",
       "      <th>20</th>\n",
       "      <td>2866416.144</td>\n",
       "      <td>558647.647</td>\n",
       "      <td>25</td>\n",
       "      <td>54</td>\n",
       "      <td>54.47</td>\n",
       "      <td>45</td>\n",
       "      <td>35</td>\n",
       "      <td>8.14</td>\n",
       "      <td>5</td>\n",
       "    </tr>\n",
       "    <tr>\n",
       "      <th>21</th>\n",
       "      <td>2866221.69</td>\n",
       "      <td>558195.96</td>\n",
       "      <td>25</td>\n",
       "      <td>54</td>\n",
       "      <td>48.21</td>\n",
       "      <td>45</td>\n",
       "      <td>34</td>\n",
       "      <td>51.87</td>\n",
       "      <td>6</td>\n",
       "    </tr>\n",
       "    <tr>\n",
       "      <th>22</th>\n",
       "      <td>2866716.425</td>\n",
       "      <td>557989.949</td>\n",
       "      <td>25</td>\n",
       "      <td>55</td>\n",
       "      <td>4.33</td>\n",
       "      <td>45</td>\n",
       "      <td>34</td>\n",
       "      <td>44.55</td>\n",
       "      <td>7</td>\n",
       "    </tr>\n",
       "    <tr>\n",
       "      <th>23</th>\n",
       "      <td>2866888.867</td>\n",
       "      <td>558370.962</td>\n",
       "      <td>25</td>\n",
       "      <td>55</td>\n",
       "      <td>9.88</td>\n",
       "      <td>45</td>\n",
       "      <td>34</td>\n",
       "      <td>58.27</td>\n",
       "      <td>8</td>\n",
       "    </tr>\n",
       "  </tbody>\n",
       "</table>\n",
       "</div>\n",
       "      <button class=\"colab-df-convert\" onclick=\"convertToInteractive('df-d74848d9-a59c-4740-b3f8-4277922973e5')\"\n",
       "              title=\"Convert this dataframe to an interactive table.\"\n",
       "              style=\"display:none;\">\n",
       "        \n",
       "  <svg xmlns=\"http://www.w3.org/2000/svg\" height=\"24px\"viewBox=\"0 0 24 24\"\n",
       "       width=\"24px\">\n",
       "    <path d=\"M0 0h24v24H0V0z\" fill=\"none\"/>\n",
       "    <path d=\"M18.56 5.44l.94 2.06.94-2.06 2.06-.94-2.06-.94-.94-2.06-.94 2.06-2.06.94zm-11 1L8.5 8.5l.94-2.06 2.06-.94-2.06-.94L8.5 2.5l-.94 2.06-2.06.94zm10 10l.94 2.06.94-2.06 2.06-.94-2.06-.94-.94-2.06-.94 2.06-2.06.94z\"/><path d=\"M17.41 7.96l-1.37-1.37c-.4-.4-.92-.59-1.43-.59-.52 0-1.04.2-1.43.59L10.3 9.45l-7.72 7.72c-.78.78-.78 2.05 0 2.83L4 21.41c.39.39.9.59 1.41.59.51 0 1.02-.2 1.41-.59l7.78-7.78 2.81-2.81c.8-.78.8-2.07 0-2.86zM5.41 20L4 18.59l7.72-7.72 1.47 1.35L5.41 20z\"/>\n",
       "  </svg>\n",
       "      </button>\n",
       "      \n",
       "  <style>\n",
       "    .colab-df-container {\n",
       "      display:flex;\n",
       "      flex-wrap:wrap;\n",
       "      gap: 12px;\n",
       "    }\n",
       "\n",
       "    .colab-df-convert {\n",
       "      background-color: #E8F0FE;\n",
       "      border: none;\n",
       "      border-radius: 50%;\n",
       "      cursor: pointer;\n",
       "      display: none;\n",
       "      fill: #1967D2;\n",
       "      height: 32px;\n",
       "      padding: 0 0 0 0;\n",
       "      width: 32px;\n",
       "    }\n",
       "\n",
       "    .colab-df-convert:hover {\n",
       "      background-color: #E2EBFA;\n",
       "      box-shadow: 0px 1px 2px rgba(60, 64, 67, 0.3), 0px 1px 3px 1px rgba(60, 64, 67, 0.15);\n",
       "      fill: #174EA6;\n",
       "    }\n",
       "\n",
       "    [theme=dark] .colab-df-convert {\n",
       "      background-color: #3B4455;\n",
       "      fill: #D2E3FC;\n",
       "    }\n",
       "\n",
       "    [theme=dark] .colab-df-convert:hover {\n",
       "      background-color: #434B5C;\n",
       "      box-shadow: 0px 1px 3px 1px rgba(0, 0, 0, 0.15);\n",
       "      filter: drop-shadow(0px 1px 2px rgba(0, 0, 0, 0.3));\n",
       "      fill: #FFFFFF;\n",
       "    }\n",
       "  </style>\n",
       "\n",
       "      <script>\n",
       "        const buttonEl =\n",
       "          document.querySelector('#df-d74848d9-a59c-4740-b3f8-4277922973e5 button.colab-df-convert');\n",
       "        buttonEl.style.display =\n",
       "          google.colab.kernel.accessAllowed ? 'block' : 'none';\n",
       "\n",
       "        async function convertToInteractive(key) {\n",
       "          const element = document.querySelector('#df-d74848d9-a59c-4740-b3f8-4277922973e5');\n",
       "          const dataTable =\n",
       "            await google.colab.kernel.invokeFunction('convertToInteractive',\n",
       "                                                     [key], {});\n",
       "          if (!dataTable) return;\n",
       "\n",
       "          const docLinkHtml = 'Like what you see? Visit the ' +\n",
       "            '<a target=\"_blank\" href=https://colab.research.google.com/notebooks/data_table.ipynb>data table notebook</a>'\n",
       "            + ' to learn more about interactive tables.';\n",
       "          element.innerHTML = '';\n",
       "          dataTable['output_type'] = 'display_data';\n",
       "          await google.colab.output.renderOutput(dataTable, element);\n",
       "          const docLink = document.createElement('div');\n",
       "          docLink.innerHTML = docLinkHtml;\n",
       "          element.appendChild(docLink);\n",
       "        }\n",
       "      </script>\n",
       "    </div>\n",
       "  </div>\n",
       "  "
      ],
      "text/plain": [
       "              Y           X   D   M      S D.1  M.1    S.1  P\n",
       "0   2769254.392   728323.36  25   1     18  47   15   45.6  1\n",
       "1   2779036.337  748997.019  25   6     24  47   28      9  2\n",
       "2   2775781.614  752813.833  25   4     36  47   30     23  3\n",
       "3   2772356.603  747497.487  25   2  47.92  47   27  11.18  4\n",
       "4   2767208.788  742530.091  25   0    3.6  47   24   10.8  5\n",
       "5   2763395.255  736766.372  24  58      3  47   20     43  6\n",
       "6   2763799.272  731225.956  24  58   19.2  47   17   25.8  7\n",
       "7   2763188.826  729889.362  24  58    0.1  47   16   37.8  8\n",
       "10  2817176.088  693848.141  25  27   32.4  46   55   40.8  1\n",
       "11  2805080.951   714562.92  25  20   49.2  47    7   55.2  2\n",
       "12  2788305.329  711804.981  25  11   45.6  47    6    7.2  3\n",
       "13  2789292.182  688605.244  25  12   28.8  46   52   19.2  4\n",
       "16   2872965.75  554165.349  25  58     28  45   32     28  1\n",
       "17  2874063.615  559054.384  25  59      3  45   35     24  2\n",
       "18  2861033.736  568269.928  25  51     58  45   40     53  3\n",
       "19  2859594.281  563406.157  25  51     12  45   37     58  4\n",
       "20  2866416.144  558647.647  25  54  54.47  45   35   8.14  5\n",
       "21   2866221.69   558195.96  25  54  48.21  45   34  51.87  6\n",
       "22  2866716.425  557989.949  25  55   4.33  45   34  44.55  7\n",
       "23  2866888.867  558370.962  25  55   9.88  45   34  58.27  8"
      ]
     },
     "execution_count": 9,
     "metadata": {},
     "output_type": "execute_result"
    }
   ],
   "source": [
    "df= df[pd.to_numeric(df['D'], errors='coerce').notnull()] # Delete the nonnumeric rows\n",
    "df.head(20)"
   ]
  },
  {
   "cell_type": "code",
   "execution_count": null,
   "metadata": {
    "colab": {
     "base_uri": "https://localhost:8080/"
    },
    "id": "2_D5sQ_a5wKF",
    "outputId": "057dbf53-4ee2-4c31-eb0f-5bceeeb1d9ab"
   },
   "outputs": [
    {
     "name": "stderr",
     "output_type": "stream",
     "text": [
      "<ipython-input-11-7cf97c548761>:1: SettingWithCopyWarning: \n",
      "A value is trying to be set on a copy of a slice from a DataFrame.\n",
      "Try using .loc[row_indexer,col_indexer] = value instead\n",
      "\n",
      "See the caveats in the documentation: https://pandas.pydata.org/pandas-docs/stable/user_guide/indexing.html#returning-a-view-versus-a-copy\n",
      "  df['lat'] = df.apply(lambda x: get_lat_lon(deg = x['D'], minutes = x[' M'], seconds = x['S']), axis=1)\n"
     ]
    }
   ],
   "source": [
    "df['lat'] = df.apply(lambda x: get_lat_lon(deg = x['D'], minutes = x[' M'], seconds = x['S']), axis=1) # Create the latitude column"
   ]
  },
  {
   "cell_type": "code",
   "execution_count": null,
   "metadata": {
    "colab": {
     "base_uri": "https://localhost:8080/"
    },
    "id": "BJqGEGBiy4JO",
    "outputId": "ac424245-5557-40b6-803f-5c319e7e2c76"
   },
   "outputs": [
    {
     "name": "stderr",
     "output_type": "stream",
     "text": [
      "<ipython-input-12-22fbce49b363>:1: SettingWithCopyWarning: \n",
      "A value is trying to be set on a copy of a slice from a DataFrame.\n",
      "Try using .loc[row_indexer,col_indexer] = value instead\n",
      "\n",
      "See the caveats in the documentation: https://pandas.pydata.org/pandas-docs/stable/user_guide/indexing.html#returning-a-view-versus-a-copy\n",
      "  df['lon'] = df.apply(lambda x: get_lat_lon(deg = x['D.1'], minutes = x[' M.1'], seconds = x['S.1']), axis=1)\n"
     ]
    }
   ],
   "source": [
    "df['lon'] = df.apply(lambda x: get_lat_lon(deg = x['D.1'], minutes = x[' M.1'], seconds = x['S.1']), axis=1) # Create the longitude colomn"
   ]
  },
  {
   "cell_type": "code",
   "execution_count": null,
   "metadata": {
    "colab": {
     "base_uri": "https://localhost:8080/"
    },
    "id": "tu8EUA5lWXTd",
    "outputId": "541989c4-9601-421f-9acd-a0a57ac0d551"
   },
   "outputs": [
    {
     "name": "stdout",
     "output_type": "stream",
     "text": [
      "Looking in indexes: https://pypi.org/simple, https://us-python.pkg.dev/colab-wheels/public/simple/\n",
      "Collecting simplekml\n",
      "  Downloading simplekml-1.3.6.tar.gz (52 kB)\n",
      "\u001b[2K     \u001b[90m━━━━━━━━━━━━━━━━━━━━━━━━━━━━━━━━━━━━━━━━\u001b[0m \u001b[32m53.0/53.0 KB\u001b[0m \u001b[31m5.2 MB/s\u001b[0m eta \u001b[36m0:00:00\u001b[0m\n",
      "\u001b[?25h  Preparing metadata (setup.py) ... \u001b[?25l\u001b[?25hdone\n",
      "Building wheels for collected packages: simplekml\n",
      "  Building wheel for simplekml (setup.py) ... \u001b[?25l\u001b[?25hdone\n",
      "  Created wheel for simplekml: filename=simplekml-1.3.6-py3-none-any.whl size=65874 sha256=6ac58ac48fa60e4fd179872b1e5aa458bb2b3f4bf60c4346111dfb39719eb53e\n",
      "  Stored in directory: /root/.cache/pip/wheels/64/ed/fa/ce203ffaab4888a5365e9b2298b50f93705391e25098fd7a3d\n",
      "Successfully built simplekml\n",
      "Installing collected packages: simplekml\n",
      "Successfully installed simplekml-1.3.6\n"
     ]
    }
   ],
   "source": [
    "!pip install simplekml  "
   ]
  },
  {
   "cell_type": "code",
   "execution_count": null,
   "metadata": {
    "id": "5kCa2njZGAoi"
   },
   "outputs": [],
   "source": [
    "import simplekml\n",
    "import pprint\n",
    "import numpy as np\n",
    "\n",
    "kml = simplekml.Kml()"
   ]
  },
  {
   "cell_type": "code",
   "execution_count": null,
   "metadata": {
    "id": "xGQ9t9P21rfc"
   },
   "outputs": [],
   "source": [
    "df_modify=df[['lon', 'lat', 'P']] "
   ]
  },
  {
   "cell_type": "code",
   "execution_count": null,
   "metadata": {
    "colab": {
     "base_uri": "https://localhost:8080/"
    },
    "id": "lskoCl9Lnc5m",
    "outputId": "83d6ead9-2762-4602-af55-7a477f7b4fcc"
   },
   "outputs": [
    {
     "name": "stderr",
     "output_type": "stream",
     "text": [
      "<ipython-input-16-f28633dd6701>:1: SettingWithCopyWarning: \n",
      "A value is trying to be set on a copy of a slice from a DataFrame.\n",
      "Try using .loc[row_indexer,col_indexer] = value instead\n",
      "\n",
      "See the caveats in the documentation: https://pandas.pydata.org/pandas-docs/stable/user_guide/indexing.html#returning-a-view-versus-a-copy\n",
      "  df_modify['P']=df_modify['P'].apply(pd.to_numeric, errors='coerce')\n"
     ]
    }
   ],
   "source": [
    "df_modify['P']=df_modify['P'].apply(pd.to_numeric, errors='coerce') # Convert the type from object to numeric"
   ]
  },
  {
   "cell_type": "code",
   "execution_count": null,
   "metadata": {
    "colab": {
     "base_uri": "https://localhost:8080/"
    },
    "id": "H3Lwp3aDGR96",
    "outputId": "131c5111-bc01-4f7c-8854-3cb89081c816"
   },
   "outputs": [
    {
     "name": "stderr",
     "output_type": "stream",
     "text": [
      "<ipython-input-17-81fd2dbaa3e7>:2: SettingWithCopyWarning: \n",
      "A value is trying to be set on a copy of a slice from a DataFrame.\n",
      "Try using .loc[row_indexer,col_indexer] = value instead\n",
      "\n",
      "See the caveats in the documentation: https://pandas.pydata.org/pandas-docs/stable/user_guide/indexing.html#returning-a-view-versus-a-copy\n",
      "  df_modify['polygon']=0\n",
      "<ipython-input-17-81fd2dbaa3e7>:6: SettingWithCopyWarning: \n",
      "A value is trying to be set on a copy of a slice from a DataFrame\n",
      "\n",
      "See the caveats in the documentation: https://pandas.pydata.org/pandas-docs/stable/user_guide/indexing.html#returning-a-view-versus-a-copy\n",
      "  df_modify['polygon'].iloc[x]=i\n",
      "<ipython-input-17-81fd2dbaa3e7>:9: SettingWithCopyWarning: \n",
      "A value is trying to be set on a copy of a slice from a DataFrame\n",
      "\n",
      "See the caveats in the documentation: https://pandas.pydata.org/pandas-docs/stable/user_guide/indexing.html#returning-a-view-versus-a-copy\n",
      "  df_modify['polygon'].iloc[x]=i\n"
     ]
    }
   ],
   "source": [
    "# NOTE: To create the kml file, we must give the same name to every point that is a part of the same polygon.\n",
    "i=0\n",
    "df_modify['polygon']=0\n",
    "for x in range(len(df_modify)):\n",
    "  if df_modify['P'].iloc[x]==1:\n",
    "    i+=1\n",
    "    df_modify['polygon'].iloc[x]=i\n",
    "\n",
    "  else:\n",
    "    df_modify['polygon'].iloc[x]=i"
   ]
  },
  {
   "cell_type": "code",
   "execution_count": null,
   "metadata": {
    "colab": {
     "base_uri": "https://localhost:8080/"
    },
    "id": "964LeqTe6a5f",
    "outputId": "0b842cd5-b939-4a62-f6b1-85e1ec2bacde"
   },
   "outputs": [
    {
     "data": {
      "text/plain": [
       "{1:          lon        lat  P  polygon\n",
       " 0  47.262667  25.021667  1        1\n",
       " 1  47.469167  25.106667  2        1\n",
       " 2  47.506389  25.076667  3        1\n",
       " 3  47.453106  25.046644  4        1\n",
       " 4  47.403000  25.001000  5        1\n",
       " 5  47.345278  24.967500  6        1\n",
       " 6  47.290500  24.972000  7        1\n",
       " 7  47.277167  24.966694  8        1, 2:        lon     lat  P  polygon\n",
       " 10  46.928  25.459  1        2\n",
       " 11  47.132  25.347  2        2\n",
       " 12  47.102  25.196  3        2\n",
       " 13  46.872  25.208  4        2, 3:           lon        lat  P  polygon\n",
       " 16  45.541111  25.974444  1        3\n",
       " 17  45.590000  25.984167  2        3\n",
       " 18  45.681389  25.866111  3        3\n",
       " 19  45.632778  25.853333  4        3\n",
       " 20  45.585594  25.915131  5        3\n",
       " 21  45.581075  25.913392  6        3\n",
       " 22  45.579042  25.917869  7        3\n",
       " 23  45.582853  25.919411  8        3, 4:        lon     lat  P  polygon\n",
       " 25  43.353  25.066  1        4}"
      ]
     },
     "execution_count": 19,
     "metadata": {},
     "output_type": "execute_result"
    }
   ],
   "source": [
    "dict_dataframes=dict(tuple(df_modify.groupby('polygon'))) # Create a dictionary of dataframes, each containing a single polygon."
   ]
  },
  {
   "cell_type": "code",
   "execution_count": null,
   "metadata": {
    "id": "pFBkl9cBLrvc"
   },
   "outputs": [],
   "source": [
    "for polygon, df in dict_dataframes.items():\n",
    "\n",
    "    # Create a List of tuples with the columns of the dataframe\n",
    "    tuples = [tuple(x) for x in df.values]\n",
    "\n",
    "    extrude=1\n",
    "    altitudemode = simplekml.AltitudeMode.relativetoground\n",
    "\n",
    "    pol = kml.newpolygon(name = str(polygon), description=\"District of \" + str(polygon), outerboundaryis=tuples, extrude=extrude, altitudemode=altitudemode)\n",
    "    pol.style.linestyle.color = simplekml.Color.honeydew\n",
    "    pol.style.linestyle.width = 3\n",
    "    pol.style.polystyle.color = simplekml.Color.changealphaint(100, simplekml.Color.navy)\n",
    "\n",
    "   \n",
    "kml.save('C:\\\\Users\\map.kml') #Save the Kml file "
   ]
  },
  {
   "cell_type": "code",
   "execution_count": null,
   "metadata": {
    "id": "-wt54j5Njk4A"
   },
   "outputs": [],
   "source": [
    "lon = df_modify['lon']\n",
    "lat = df_modify['lat']"
   ]
  },
  {
   "cell_type": "code",
   "execution_count": null,
   "metadata": {
    "colab": {
     "base_uri": "https://localhost:8080/"
    },
    "id": "emSzuTFOXd4T",
    "outputId": "2e07bcd3-22a6-494a-f660-8d18d0052b20"
   },
   "outputs": [
    {
     "data": {
      "text/plain": [
       "array([1, 2, 3, 4])"
      ]
     },
     "execution_count": 212,
     "metadata": {},
     "output_type": "execute_result"
    }
   ],
   "source": [
    "unique=df_modify['polygon'].unique()\n",
    "unique"
   ]
  },
  {
   "cell_type": "code",
   "execution_count": null,
   "metadata": {
    "id": "ultALUp_3i8Z"
   },
   "outputs": [],
   "source": [
    "Polygon={}"
   ]
  },
  {
   "cell_type": "code",
   "execution_count": null,
   "metadata": {
    "id": "dr9k_aGsVXj5"
   },
   "outputs": [],
   "source": [
    "'''\n",
    "NOTE: In order to be able to use the polygon area calculation function(\"p_area\"), \n",
    "the coordinates must be in this form [[[longitude,latitude ],[longitude,latitude ]... ]] for each polygon\n",
    "'''\n",
    "for key in unique:\n",
    "  Polygon[key]=[[]]\n",
    "  for i in range(len(df_modify)):\n",
    "    if df_modify['polygon'].iloc[i]==key:\n",
    "     Polygon[key][0].append([lon.iloc[i],lat.iloc[i]])"
   ]
  },
  {
   "cell_type": "code",
   "execution_count": null,
   "metadata": {
    "colab": {
     "base_uri": "https://localhost:8080/"
    },
    "id": "F3tE2_L5Wr_L",
    "outputId": "519fbb61-64cc-4d77-a204-c1c24dbb80e5"
   },
   "outputs": [
    {
     "data": {
      "text/plain": [
       "{1: [[[47.26266666666667, 25.021666666666665],\n",
       "   [47.469166666666666, 25.10666666666667],\n",
       "   [47.506388888888885, 25.076666666666668],\n",
       "   [47.45310555555556, 25.046644444444446],\n",
       "   [47.403, 25.001],\n",
       "   [47.34527777777778, 24.967499999999998],\n",
       "   [47.2905, 24.971999999999998],\n",
       "   [47.277166666666666, 24.966694444444443]]],\n",
       " 2: [[[46.928, 25.459],\n",
       "   [47.132, 25.346999999999998],\n",
       "   [47.102000000000004, 25.196],\n",
       "   [46.872, 25.208]]],\n",
       " 3: [[[45.54111111111111, 25.974444444444444],\n",
       "   [45.59, 25.984166666666667],\n",
       "   [45.68138888888889, 25.866111111111113],\n",
       "   [45.632777777777775, 25.853333333333335],\n",
       "   [45.585594444444446, 25.915130555555553],\n",
       "   [45.581075000000006, 25.913391666666666],\n",
       "   [45.57904166666667, 25.917869444444445],\n",
       "   [45.58285277777778, 25.919411111111113]]],\n",
       " 4: [[[43.353, 25.066]]]}"
      ]
     },
     "execution_count": 216,
     "metadata": {},
     "output_type": "execute_result"
    }
   ],
   "source": [
    "Polygon"
   ]
  },
  {
   "cell_type": "code",
   "execution_count": 2,
   "metadata": {
    "colab": {
     "base_uri": "https://localhost:8080/"
    },
    "id": "VM4t0dRDnl7G",
    "outputId": "a2a92aa6-88ca-4cca-e402-c8c92ec97157"
   },
   "outputs": [
    {
     "name": "stdout",
     "output_type": "stream",
     "text": [
      "Looking in indexes: https://pypi.org/simple, https://us-python.pkg.dev/colab-wheels/public/simple/\n",
      "Collecting area\n",
      "  Downloading area-1.1.1.tar.gz (4.1 kB)\n",
      "  Preparing metadata (setup.py) ... \u001b[?25l\u001b[?25hdone\n",
      "Building wheels for collected packages: area\n",
      "  Building wheel for area (setup.py) ... \u001b[?25l\u001b[?25hdone\n",
      "  Created wheel for area: filename=area-1.1.1-py3-none-any.whl size=3622 sha256=288237fea2b7b5019c46e46f133684e5e34ab46d4dec9a5d01b7a796f561ef6a\n",
      "  Stored in directory: /root/.cache/pip/wheels/4f/99/e9/0a659ec7bb7f9b457c6a1cf77cff5b34de511e1f5d2236fbab\n",
      "Successfully built area\n",
      "Installing collected packages: area\n",
      "Successfully installed area-1.1.1\n"
     ]
    }
   ],
   "source": [
    "!pip install area"
   ]
  },
  {
   "cell_type": "code",
   "execution_count": null,
   "metadata": {
    "id": "tSsGGgbTEynp"
   },
   "outputs": [],
   "source": [
    "# Calculate the polygon area in km2.\n",
    "from area import area\n",
    "def p_area(coordinates):\n",
    "  obj = {'type':'Polygon','coordinates': coordinates}\n",
    "  return area(obj)/10**6"
   ]
  },
  {
   "cell_type": "code",
   "execution_count": null,
   "metadata": {
    "id": "dYmD-iGUG27A"
   },
   "outputs": [],
   "source": [
    "Polygons_area=pd.DataFrame(columns = [\"area\"])"
   ]
  },
  {
   "cell_type": "code",
   "execution_count": null,
   "metadata": {
    "id": "PveLfsDv1PLa"
   },
   "outputs": [],
   "source": [
    "Polygons_area[\"area\"]=[p_area(i) for i in Polygon.values()]"
   ]
  },
  {
   "cell_type": "code",
   "execution_count": null,
   "metadata": {
    "colab": {
     "base_uri": "https://localhost:8080/",
     "height": 175
    },
    "id": "_dvW0-v2H8wn",
    "outputId": "4117469e-6a7a-4faa-a3bb-1d3b0b73223e"
   },
   "outputs": [
    {
     "data": {
      "text/html": [
       "\n",
       "  <div id=\"df-bf55ed49-33d6-4689-90c3-0b16aa639681\">\n",
       "    <div class=\"colab-df-container\">\n",
       "      <div>\n",
       "<style scoped>\n",
       "    .dataframe tbody tr th:only-of-type {\n",
       "        vertical-align: middle;\n",
       "    }\n",
       "\n",
       "    .dataframe tbody tr th {\n",
       "        vertical-align: top;\n",
       "    }\n",
       "\n",
       "    .dataframe thead th {\n",
       "        text-align: right;\n",
       "    }\n",
       "</style>\n",
       "<table border=\"1\" class=\"dataframe\">\n",
       "  <thead>\n",
       "    <tr style=\"text-align: right;\">\n",
       "      <th></th>\n",
       "      <th>area</th>\n",
       "    </tr>\n",
       "  </thead>\n",
       "  <tbody>\n",
       "    <tr>\n",
       "      <th>0</th>\n",
       "      <td>171.138799</td>\n",
       "    </tr>\n",
       "    <tr>\n",
       "      <th>1</th>\n",
       "      <td>518.465579</td>\n",
       "    </tr>\n",
       "    <tr>\n",
       "      <th>2</th>\n",
       "      <td>76.812767</td>\n",
       "    </tr>\n",
       "    <tr>\n",
       "      <th>3</th>\n",
       "      <td>0.000000</td>\n",
       "    </tr>\n",
       "  </tbody>\n",
       "</table>\n",
       "</div>\n",
       "      <button class=\"colab-df-convert\" onclick=\"convertToInteractive('df-bf55ed49-33d6-4689-90c3-0b16aa639681')\"\n",
       "              title=\"Convert this dataframe to an interactive table.\"\n",
       "              style=\"display:none;\">\n",
       "        \n",
       "  <svg xmlns=\"http://www.w3.org/2000/svg\" height=\"24px\"viewBox=\"0 0 24 24\"\n",
       "       width=\"24px\">\n",
       "    <path d=\"M0 0h24v24H0V0z\" fill=\"none\"/>\n",
       "    <path d=\"M18.56 5.44l.94 2.06.94-2.06 2.06-.94-2.06-.94-.94-2.06-.94 2.06-2.06.94zm-11 1L8.5 8.5l.94-2.06 2.06-.94-2.06-.94L8.5 2.5l-.94 2.06-2.06.94zm10 10l.94 2.06.94-2.06 2.06-.94-2.06-.94-.94-2.06-.94 2.06-2.06.94z\"/><path d=\"M17.41 7.96l-1.37-1.37c-.4-.4-.92-.59-1.43-.59-.52 0-1.04.2-1.43.59L10.3 9.45l-7.72 7.72c-.78.78-.78 2.05 0 2.83L4 21.41c.39.39.9.59 1.41.59.51 0 1.02-.2 1.41-.59l7.78-7.78 2.81-2.81c.8-.78.8-2.07 0-2.86zM5.41 20L4 18.59l7.72-7.72 1.47 1.35L5.41 20z\"/>\n",
       "  </svg>\n",
       "      </button>\n",
       "      \n",
       "  <style>\n",
       "    .colab-df-container {\n",
       "      display:flex;\n",
       "      flex-wrap:wrap;\n",
       "      gap: 12px;\n",
       "    }\n",
       "\n",
       "    .colab-df-convert {\n",
       "      background-color: #E8F0FE;\n",
       "      border: none;\n",
       "      border-radius: 50%;\n",
       "      cursor: pointer;\n",
       "      display: none;\n",
       "      fill: #1967D2;\n",
       "      height: 32px;\n",
       "      padding: 0 0 0 0;\n",
       "      width: 32px;\n",
       "    }\n",
       "\n",
       "    .colab-df-convert:hover {\n",
       "      background-color: #E2EBFA;\n",
       "      box-shadow: 0px 1px 2px rgba(60, 64, 67, 0.3), 0px 1px 3px 1px rgba(60, 64, 67, 0.15);\n",
       "      fill: #174EA6;\n",
       "    }\n",
       "\n",
       "    [theme=dark] .colab-df-convert {\n",
       "      background-color: #3B4455;\n",
       "      fill: #D2E3FC;\n",
       "    }\n",
       "\n",
       "    [theme=dark] .colab-df-convert:hover {\n",
       "      background-color: #434B5C;\n",
       "      box-shadow: 0px 1px 3px 1px rgba(0, 0, 0, 0.15);\n",
       "      filter: drop-shadow(0px 1px 2px rgba(0, 0, 0, 0.3));\n",
       "      fill: #FFFFFF;\n",
       "    }\n",
       "  </style>\n",
       "\n",
       "      <script>\n",
       "        const buttonEl =\n",
       "          document.querySelector('#df-bf55ed49-33d6-4689-90c3-0b16aa639681 button.colab-df-convert');\n",
       "        buttonEl.style.display =\n",
       "          google.colab.kernel.accessAllowed ? 'block' : 'none';\n",
       "\n",
       "        async function convertToInteractive(key) {\n",
       "          const element = document.querySelector('#df-bf55ed49-33d6-4689-90c3-0b16aa639681');\n",
       "          const dataTable =\n",
       "            await google.colab.kernel.invokeFunction('convertToInteractive',\n",
       "                                                     [key], {});\n",
       "          if (!dataTable) return;\n",
       "\n",
       "          const docLinkHtml = 'Like what you see? Visit the ' +\n",
       "            '<a target=\"_blank\" href=https://colab.research.google.com/notebooks/data_table.ipynb>data table notebook</a>'\n",
       "            + ' to learn more about interactive tables.';\n",
       "          element.innerHTML = '';\n",
       "          dataTable['output_type'] = 'display_data';\n",
       "          await google.colab.output.renderOutput(dataTable, element);\n",
       "          const docLink = document.createElement('div');\n",
       "          docLink.innerHTML = docLinkHtml;\n",
       "          element.appendChild(docLink);\n",
       "        }\n",
       "      </script>\n",
       "    </div>\n",
       "  </div>\n",
       "  "
      ],
      "text/plain": [
       "         area\n",
       "0  171.138799\n",
       "1  518.465579\n",
       "2   76.812767\n",
       "3    0.000000"
      ]
     },
     "execution_count": 223,
     "metadata": {},
     "output_type": "execute_result"
    }
   ],
   "source": [
    "Polygons_area "
   ]
  }
 ],
 "metadata": {
  "colab": {
   "provenance": []
  },
  "kernelspec": {
   "display_name": "Python 3 (ipykernel)",
   "language": "python",
   "name": "python3"
  },
  "language_info": {
   "codemirror_mode": {
    "name": "ipython",
    "version": 3
   },
   "file_extension": ".py",
   "mimetype": "text/x-python",
   "name": "python",
   "nbconvert_exporter": "python",
   "pygments_lexer": "ipython3",
   "version": "3.11.0"
  }
 },
 "nbformat": 4,
 "nbformat_minor": 1
}
